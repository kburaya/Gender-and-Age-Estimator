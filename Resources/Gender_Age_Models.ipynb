{
 "cells": [
  {
   "cell_type": "code",
   "execution_count": 213,
   "metadata": {
    "collapsed": true
   },
   "outputs": [],
   "source": [
    "import pandas as pd\n",
    "import scipy as sp\n",
    "import numpy as np\n",
    "\n",
    "import sklearn\n",
    "from sklearn import datasets\n",
    "from sklearn.cross_validation import train_test_split\n",
    "from sklearn.cross_validation import cross_val_score\n",
    "from sklearn.linear_model import LinearRegression, LogisticRegression\n",
    "from sklearn.svm import SVC\n",
    "from sklearn.ensemble import GradientBoostingClassifier\n",
    "from sklearn.externals import joblib\n",
    "from sklearn.preprocessing import StandardScaler\n",
    "from sklearn.cross_validation import StratifiedShuffleSplit\n",
    "from sklearn.grid_search import GridSearchCV\n",
    "from sklearn.multiclass import OneVsRestClassifier\n",
    "from sklearn.multiclass import OneVsOneClassifier\n",
    "from numpy import arange\n",
    "from sklearn import metrics"
   ]
  },
  {
   "cell_type": "code",
   "execution_count": 233,
   "metadata": {
    "collapsed": false
   },
   "outputs": [
    {
     "name": "stdout",
     "output_type": "stream",
     "text": [
      "Index(['user_1grams', 'user_2grams', 'user_3grams', 'avr_mentions',\n",
      "       'avr_punctuation', 'avr_text_size', 'avr_starts_with_capital',\n",
      "       'avr_ends_with_punctuation', 'avr_capitals', 'avr_words_count',\n",
      "       'vocabulary_richness', 'CC', 'CD', 'DT', 'EX', 'FW', 'IN', 'JJ', 'JJR',\n",
      "       'JJS', 'LS', 'MD', 'NN', 'NNS', 'NNP', 'NNPS', 'PDT', 'POS', 'PRP',\n",
      "       'PRP$', 'RB', 'RBR', 'RBS', 'RP', 'SYM', 'TO', 'UH', 'VB', 'VBD', 'VBG',\n",
      "       'VBN', 'VBP', 'VBZ', 'WDT', 'WP', 'WP$', 'WRB', ',', '.', ')', '(', ':',\n",
      "       '$'],\n",
      "      dtype='object')\n"
     ]
    },
    {
     "data": {
      "text/plain": [
       "53"
      ]
     },
     "execution_count": 233,
     "metadata": {},
     "output_type": "execute_result"
    }
   ],
   "source": [
    "data = pd.read_csv('data_features.csv', sep='\\t', index_col=0)\n",
    "data = pd.DataFrame(data)\n",
    "del data['Unnamed: 0.1']\n",
    "del data['Unnamed: 0.1.1']\n",
    "del data['\\'\\'']\n",
    "\n",
    "del data['user']\n",
    "data = data.fillna(0)\n",
    "data.describe()\n",
    "\n",
    "Yage = data['age']\n",
    "Ysex = data['sex']\n",
    "\n",
    "del data['age']\n",
    "del data['sex']\n",
    "X = data\n",
    "print (X.columns)\n",
    "\n",
    "scaler = StandardScaler()\n",
    "X = scaler.fit_transform(X)\n",
    "# X = pd.DataFrame(X)\n",
    "# X.head()\n",
    "len(X[0])"
   ]
  },
  {
   "cell_type": "code",
   "execution_count": 219,
   "metadata": {
    "collapsed": false
   },
   "outputs": [],
   "source": [
    "# split data for AGE\n",
    "X = pd.DataFrame(X)\n",
    "Xage_train, Xage_test, Yage_train, Yage_test = train_test_split(X, Yage, test_size = 0.20, random_state = 23)\n",
    "\n",
    "# split data for SEX\n",
    "Xsex_train, Xsex_test, Ysex_train, Ysex_test = train_test_split(X, Ysex, test_size = 0.20, random_state = 23)"
   ]
  },
  {
   "cell_type": "code",
   "execution_count": 239,
   "metadata": {
    "collapsed": false
   },
   "outputs": [
    {
     "name": "stdout",
     "output_type": "stream",
     "text": [
      "Logistic Regression Score for AGE: 0.432\n",
      "Logistic Regression Score for SEX: 0.580\n"
     ]
    },
    {
     "data": {
      "text/plain": [
       "['log_model_sex.pkl']"
      ]
     },
     "execution_count": 239,
     "metadata": {},
     "output_type": "execute_result"
    }
   ],
   "source": [
    "# build logistic regression model\n",
    "# AGE\n",
    "log_model_age = LogisticRegression()\n",
    "log_model_age.fit(Xage_train, Yage_train)\n",
    "print ('Logistic Regression Score for AGE: %.3f' % model_age.score(Xage_test, Yage_test))\n",
    "\n",
    "log_model_sex = LogisticRegression()\n",
    "log_model_sex.fit(Xsex_train, Ysex_train)\n",
    "print ('Logistic Regression Score for SEX: %.3f' % model_sex.score(Xsex_test, Ysex_test))\n",
    "\n",
    "joblib.dump(log_model_age, 'log_model_age.pkl', compress = 9)\n",
    "joblib.dump(log_model_sex, 'log_model_sex.pkl', compress = 9)"
   ]
  },
  {
   "cell_type": "code",
   "execution_count": 187,
   "metadata": {
    "collapsed": false
   },
   "outputs": [
    {
     "name": "stdout",
     "output_type": "stream",
     "text": [
      "The best parameters for AGE are {'gamma': 0.1, 'C': 10.0} with a score of 0.46\n",
      "The best parameters for AGE are {'gamma': 0.1, 'C': 10.0} with a score of 0.57\n"
     ]
    }
   ],
   "source": [
    "# build SVM model\n",
    "# AGE\n",
    "C_range = [1e-2, 1e-1, 1, 0.5, 1e1, 20, 30, 50, 1e2]\n",
    "gamma_range = [1e-1, 1, 1e1]\n",
    "param_grid = dict(gamma=gamma_range, C=C_range)\n",
    "cv = StratifiedShuffleSplit(Yage, n_iter=5, test_size=0.2, random_state=42)\n",
    "grid_age_svm = GridSearchCV(SVC(), param_grid=param_grid, cv=cv)\n",
    "grid_age_svm.fit(X, Yage)\n",
    "\n",
    "print(\"The best parameters for AGE are %s with a score of %0.2f\"\n",
    "      % (grid_age_svm.best_params_, grid_age_svm.best_score_))\n",
    "\n",
    "cv = StratifiedShuffleSplit(Yage, n_iter=5, test_size=0.2, random_state=42)\n",
    "grid_sex_svm = GridSearchCV(SVC(), param_grid=param_grid, cv=cv)\n",
    "grid_sex_svm.fit(X, Ysex)\n",
    "\n",
    "print(\"The best parameters for AGE are %s with a score of %0.2f\"\n",
    "      % (grid_sex_svm.best_params_, grid_sex_svm.best_score_))"
   ]
  },
  {
   "cell_type": "code",
   "execution_count": 240,
   "metadata": {
    "collapsed": false
   },
   "outputs": [
    {
     "data": {
      "text/plain": [
       "['grid_sex_svm.pkl']"
      ]
     },
     "execution_count": 240,
     "metadata": {},
     "output_type": "execute_result"
    }
   ],
   "source": [
    "joblib.dump(grid_age_svm, 'grid_age_svm.pkl', compress = 9)\n",
    "joblib.dump(grid_sex_svm, 'grid_sex_svm.pkl', compress = 9)"
   ]
  },
  {
   "cell_type": "code",
   "execution_count": 197,
   "metadata": {
    "collapsed": false,
    "scrolled": true
   },
   "outputs": [
    {
     "name": "stdout",
     "output_type": "stream",
     "text": [
      "The best parameters for AGE are {'n_estimators': 100, 'learning_rate': 0.2, 'max_depth': 4} with a score of 0.42\n"
     ]
    }
   ],
   "source": [
    "# build GBM model\n",
    "# AGE\n",
    "learning_rate_range = [0.1, 0.2, 0.5]\n",
    "n_estimators_range = [100, 150, 200]\n",
    "max_depth_range = [3, 4]\n",
    "param_grid = dict(learning_rate=learning_rate_range, n_estimators=n_estimators_range, max_depth=max_depth_range)\n",
    "cv = StratifiedShuffleSplit(Yage, n_iter=5, test_size=0.2, random_state=42)\n",
    "grid_age_gbm = GridSearchCV(GradientBoostingClassifier(), param_grid = param_grid, cv = cv)\n",
    "grid_age_gbm.fit(X, Yage)\n",
    "print(\"The best parameters for AGE are %s with a score of %0.2f\"\n",
    "      % (grid_age_gbm.best_params_, grid_age_gbm.best_score_))"
   ]
  },
  {
   "cell_type": "code",
   "execution_count": 199,
   "metadata": {
    "collapsed": false,
    "scrolled": true
   },
   "outputs": [
    {
     "name": "stdout",
     "output_type": "stream",
     "text": [
      "The best parameters for SEX are {'n_estimators': 100, 'learning_rate': 0.2, 'max_depth': 4} with a score of 0.42\n"
     ]
    }
   ],
   "source": [
    "# build GBM model\n",
    "# SEX\n",
    "learning_rate_range = [0.1, 0.2, 0.5]\n",
    "n_estimators_range = [100, 150, 200]\n",
    "max_depth_range = [3, 4]\n",
    "param_grid = dict(learning_rate=learning_rate_range, n_estimators=n_estimators_range, max_depth=max_depth_range)\n",
    "cv = StratifiedShuffleSplit(Ysex, n_iter=5, test_size=0.2, random_state=42)\n",
    "grid_sex_gbm = GridSearchCV(GradientBoostingClassifier(), param_grid = param_grid, cv = cv)\n",
    "grid_sex_gbm.fit(X, Ysex)\n",
    "print(\"The best parameters for SEX are %s with a score of %0.2f\"\n",
    "      % (grid_age_gbm.best_params_, grid_age_gbm.best_score_))"
   ]
  },
  {
   "cell_type": "code",
   "execution_count": 241,
   "metadata": {
    "collapsed": false
   },
   "outputs": [
    {
     "data": {
      "text/plain": [
       "['grid_sex_gbm']"
      ]
     },
     "execution_count": 241,
     "metadata": {},
     "output_type": "execute_result"
    }
   ],
   "source": [
    "joblib.dump(grid_age_gbm, 'grid_age_gbm', compress = 9)\n",
    "joblib.dump(grid_sex_gbm, 'grid_sex_gbm', compress = 9)"
   ]
  },
  {
   "cell_type": "code",
   "execution_count": 237,
   "metadata": {
    "collapsed": false
   },
   "outputs": [
    {
     "name": "stdout",
     "output_type": "stream",
     "text": [
      "['25-34\\r\\r\\r\\r\\r\\n']\n",
      "['MALE']\n"
     ]
    }
   ],
   "source": [
    "# Trying to predict \n",
    "features = [4, 2, 0, 0, 1, 35, 1, 0, 0, 8, 50.0, 0, 0, 1, 0, 0, 0, 2, 0, 0, 0, 1, 2, 0, 0, 0, 0, \n",
    "            0, 1, 0, 0, 0, 0, 0, 0, 0, 0, 1, 0, 0, 0, 0, 0, 0, 0, 0, 0, 0, 0, 0, 0, 0, 0]\n",
    "features = np.array(features).reshape(1, -1)\n",
    "scaler = StandardScaler()\n",
    "features = scaler.fit_transform(features)\n",
    "\n",
    "print (grid_age_svm.predict(features))\n",
    "print (model_sex.predict(features))"
   ]
  }
 ],
 "metadata": {
  "anaconda-cloud": {},
  "kernelspec": {
   "display_name": "Python [Root]",
   "language": "python",
   "name": "Python [Root]"
  },
  "language_info": {
   "codemirror_mode": {
    "name": "ipython",
    "version": 3.0
   },
   "file_extension": ".py",
   "mimetype": "text/x-python",
   "name": "python",
   "nbconvert_exporter": "python",
   "pygments_lexer": "ipython3",
   "version": "3.5.2"
  }
 },
 "nbformat": 4,
 "nbformat_minor": 0
}