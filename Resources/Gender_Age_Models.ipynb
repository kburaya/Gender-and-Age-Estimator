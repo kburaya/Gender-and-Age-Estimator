{
 "cells": [
  {
   "cell_type": "code",
   "execution_count": 46,
   "metadata": {
    "collapsed": true
   },
   "outputs": [],
   "source": [
    "import pandas as pd\n",
    "import scipy as sp\n",
    "import numpy as np\n",
    "\n",
    "import sklearn\n",
    "from sklearn import datasets\n",
    "from sklearn.cross_validation import train_test_split\n",
    "from sklearn.cross_validation import cross_val_score\n",
    "from sklearn.linear_model import LinearRegression, LogisticRegression\n",
    "from sklearn.svm import SVC\n",
    "from sklearn.ensemble import GradientBoostingClassifier\n",
    "from sklearn.externals import joblib"
   ]
  },
  {
   "cell_type": "code",
   "execution_count": 78,
   "metadata": {
    "collapsed": false
   },
   "outputs": [
    {
     "data": {
      "text/html": [
       "<div>\n",
       "<table border=\"1\" class=\"dataframe\">\n",
       "  <thead>\n",
       "    <tr style=\"text-align: right;\">\n",
       "      <th></th>\n",
       "      <th>sex</th>\n",
       "      <th>age</th>\n",
       "      <th>user_1grams</th>\n",
       "      <th>user_2grams</th>\n",
       "      <th>user_3grams</th>\n",
       "      <th>avr_mentions</th>\n",
       "      <th>avr_punctuation</th>\n",
       "    </tr>\n",
       "  </thead>\n",
       "  <tbody>\n",
       "    <tr>\n",
       "      <th>0</th>\n",
       "      <td>FEMALE</td>\n",
       "      <td>50-64\\r\\n</td>\n",
       "      <td>0.425926</td>\n",
       "      <td>0.481481</td>\n",
       "      <td>0.546296</td>\n",
       "      <td>0.685185</td>\n",
       "      <td>2.148148</td>\n",
       "    </tr>\n",
       "    <tr>\n",
       "      <th>1</th>\n",
       "      <td>MALE</td>\n",
       "      <td>50-64\\r\\n</td>\n",
       "      <td>1.300000</td>\n",
       "      <td>1.472727</td>\n",
       "      <td>1.500000</td>\n",
       "      <td>1.200000</td>\n",
       "      <td>2.563636</td>\n",
       "    </tr>\n",
       "    <tr>\n",
       "      <th>2</th>\n",
       "      <td>MALE</td>\n",
       "      <td>18-24\\r\\n</td>\n",
       "      <td>0.753260</td>\n",
       "      <td>1.003009</td>\n",
       "      <td>1.034102</td>\n",
       "      <td>0.494483</td>\n",
       "      <td>3.477432</td>\n",
       "    </tr>\n",
       "    <tr>\n",
       "      <th>3</th>\n",
       "      <td>FEMALE</td>\n",
       "      <td>35-49\\r\\n</td>\n",
       "      <td>0.615616</td>\n",
       "      <td>0.824825</td>\n",
       "      <td>0.869870</td>\n",
       "      <td>1.207207</td>\n",
       "      <td>4.055055</td>\n",
       "    </tr>\n",
       "    <tr>\n",
       "      <th>4</th>\n",
       "      <td>MALE</td>\n",
       "      <td>35-49\\r\\n</td>\n",
       "      <td>0.695710</td>\n",
       "      <td>0.813673</td>\n",
       "      <td>0.820375</td>\n",
       "      <td>0.302949</td>\n",
       "      <td>1.938338</td>\n",
       "    </tr>\n",
       "  </tbody>\n",
       "</table>\n",
       "</div>"
      ],
      "text/plain": [
       "      sex        age  user_1grams  user_2grams  user_3grams  avr_mentions  \\\n",
       "0  FEMALE  50-64\\r\\n     0.425926     0.481481     0.546296      0.685185   \n",
       "1    MALE  50-64\\r\\n     1.300000     1.472727     1.500000      1.200000   \n",
       "2    MALE  18-24\\r\\n     0.753260     1.003009     1.034102      0.494483   \n",
       "3  FEMALE  35-49\\r\\n     0.615616     0.824825     0.869870      1.207207   \n",
       "4    MALE  35-49\\r\\n     0.695710     0.813673     0.820375      0.302949   \n",
       "\n",
       "   avr_punctuation  \n",
       "0         2.148148  \n",
       "1         2.563636  \n",
       "2         3.477432  \n",
       "3         4.055055  \n",
       "4         1.938338  "
      ]
     },
     "execution_count": 78,
     "metadata": {},
     "output_type": "execute_result"
    }
   ],
   "source": [
    "data = pd.read_csv('data_features.csv', sep='\\t')\n",
    "data = pd.DataFrame(data)\n",
    "del data['Unnamed: 0']\n",
    "del data['user']\n",
    "data.head()"
   ]
  },
  {
   "cell_type": "code",
   "execution_count": 62,
   "metadata": {
    "collapsed": false
   },
   "outputs": [
    {
     "data": {
      "text/html": [
       "<div>\n",
       "<table border=\"1\" class=\"dataframe\">\n",
       "  <thead>\n",
       "    <tr style=\"text-align: right;\">\n",
       "      <th></th>\n",
       "      <th>user_1grams</th>\n",
       "      <th>user_2grams</th>\n",
       "      <th>user_3grams</th>\n",
       "      <th>avr_mentions</th>\n",
       "      <th>avr_punctuation</th>\n",
       "    </tr>\n",
       "  </thead>\n",
       "  <tbody>\n",
       "    <tr>\n",
       "      <th>0</th>\n",
       "      <td>0.425926</td>\n",
       "      <td>0.481481</td>\n",
       "      <td>0.546296</td>\n",
       "      <td>0.685185</td>\n",
       "      <td>2.148148</td>\n",
       "    </tr>\n",
       "    <tr>\n",
       "      <th>1</th>\n",
       "      <td>1.300000</td>\n",
       "      <td>1.472727</td>\n",
       "      <td>1.500000</td>\n",
       "      <td>1.200000</td>\n",
       "      <td>2.563636</td>\n",
       "    </tr>\n",
       "    <tr>\n",
       "      <th>2</th>\n",
       "      <td>0.753260</td>\n",
       "      <td>1.003009</td>\n",
       "      <td>1.034102</td>\n",
       "      <td>0.494483</td>\n",
       "      <td>3.477432</td>\n",
       "    </tr>\n",
       "    <tr>\n",
       "      <th>3</th>\n",
       "      <td>0.615616</td>\n",
       "      <td>0.824825</td>\n",
       "      <td>0.869870</td>\n",
       "      <td>1.207207</td>\n",
       "      <td>4.055055</td>\n",
       "    </tr>\n",
       "    <tr>\n",
       "      <th>4</th>\n",
       "      <td>0.695710</td>\n",
       "      <td>0.813673</td>\n",
       "      <td>0.820375</td>\n",
       "      <td>0.302949</td>\n",
       "      <td>1.938338</td>\n",
       "    </tr>\n",
       "  </tbody>\n",
       "</table>\n",
       "</div>"
      ],
      "text/plain": [
       "   user_1grams  user_2grams  user_3grams  avr_mentions  avr_punctuation\n",
       "0     0.425926     0.481481     0.546296      0.685185         2.148148\n",
       "1     1.300000     1.472727     1.500000      1.200000         2.563636\n",
       "2     0.753260     1.003009     1.034102      0.494483         3.477432\n",
       "3     0.615616     0.824825     0.869870      1.207207         4.055055\n",
       "4     0.695710     0.813673     0.820375      0.302949         1.938338"
      ]
     },
     "execution_count": 62,
     "metadata": {},
     "output_type": "execute_result"
    }
   ],
   "source": [
    "#model for age\n",
    "age_data = data\n",
    "target = age_data['age']\n",
    "del age_data['age']\n",
    "del age_data['sex']\n",
    "\n",
    "\n",
    "X_train, X_test, Y_train, Y_test = train_test_split(age_data, target, test_size = 0.20, random_state = 23)\n",
    "\n",
    "age_data.head()"
   ]
  },
  {
   "cell_type": "code",
   "execution_count": 63,
   "metadata": {
    "collapsed": false
   },
   "outputs": [
    {
     "name": "stdout",
     "output_type": "stream",
     "text": [
      "0.409090909091\n"
     ]
    }
   ],
   "source": [
    "#build logistic regression model\n",
    "log_reg = LogisticRegression()\n",
    "log_reg.fit(X_train, Y_train)\n",
    "print(log_reg.score(X_test, Y_test))"
   ]
  },
  {
   "cell_type": "code",
   "execution_count": 65,
   "metadata": {
    "collapsed": false
   },
   "outputs": [
    {
     "name": "stdout",
     "output_type": "stream",
     "text": [
      "0.420454545455\n"
     ]
    }
   ],
   "source": [
    "#build SVM model\n",
    "svm = SVC()\n",
    "svm.fit(X_train, Y_train)\n",
    "\n",
    "print(svm.score(X_test, Y_test))"
   ]
  },
  {
   "cell_type": "code",
   "execution_count": 64,
   "metadata": {
    "collapsed": false
   },
   "outputs": [
    {
     "name": "stdout",
     "output_type": "stream",
     "text": [
      "0.375\n"
     ]
    }
   ],
   "source": [
    "#build GBM model\n",
    "gbm = GradientBoostingClassifier()\n",
    "gbm.fit(X_train, Y_train)\n",
    "print(gbm.score(X_test, Y_test))\n",
    "\n"
   ]
  },
  {
   "cell_type": "code",
   "execution_count": 66,
   "metadata": {
    "collapsed": false
   },
   "outputs": [
    {
     "data": {
      "text/plain": [
       "['log_model.pkl']"
      ]
     },
     "execution_count": 66,
     "metadata": {},
     "output_type": "execute_result"
    }
   ],
   "source": [
    "joblib.dump(gbm, 'gbm_model.pkl', compress = 9)\n",
    "joblib.dump(svm, 'svm_model.pkl', compress = 9)\n",
    "joblib.dump(log_reg, 'log_model.pkl', compress = 9)"
   ]
  },
  {
   "cell_type": "code",
   "execution_count": 75,
   "metadata": {
    "collapsed": false
   },
   "outputs": [
    {
     "name": "stdout",
     "output_type": "stream",
     "text": [
      "GBM: ['25-34\\r\\n']\n",
      "SVM: ['35-49\\r\\n']\n",
      "LOG REG: ['35-49\\r\\n']\n"
     ]
    }
   ],
   "source": [
    "features = [4, 2, 0, 0, 1]\n",
    "features = np.array(features).reshape(1, -1)\n",
    "print ( \"GBM: \" + str(gbm.predict(features)))\n",
    "print ( \"SVM: \" + str(svm.predict(features)))\n",
    "print ( \"LOG REG: \" + str(log_reg.predict(features)))"
   ]
  },
  {
   "cell_type": "code",
   "execution_count": 76,
   "metadata": {
    "collapsed": false
   },
   "outputs": [
    {
     "name": "stdout",
     "output_type": "stream",
     "text": [
      "GBM: ['25-34\\r\\n']\n",
      "SVM: ['35-49\\r\\n']\n",
      "LOG REG: ['35-49\\r\\n']\n"
     ]
    }
   ],
   "source": [
    "features = [4, 2, 0, 0, 0]\n",
    "features = np.array(features).reshape(1, -1)\n",
    "print ( \"GBM: \" + str(gbm.predict(features)))\n",
    "print ( \"SVM: \" + str(svm.predict(features)))\n",
    "print ( \"LOG REG: \" + str(log_reg.predict(features)))"
   ]
  },
  {
   "cell_type": "code",
   "execution_count": 79,
   "metadata": {
    "collapsed": false,
    "scrolled": true
   },
   "outputs": [
    {
     "data": {
      "text/html": [
       "<div>\n",
       "<table border=\"1\" class=\"dataframe\">\n",
       "  <thead>\n",
       "    <tr style=\"text-align: right;\">\n",
       "      <th></th>\n",
       "      <th>user_1grams</th>\n",
       "      <th>user_2grams</th>\n",
       "      <th>user_3grams</th>\n",
       "      <th>avr_mentions</th>\n",
       "      <th>avr_punctuation</th>\n",
       "    </tr>\n",
       "  </thead>\n",
       "  <tbody>\n",
       "    <tr>\n",
       "      <th>0</th>\n",
       "      <td>0.425926</td>\n",
       "      <td>0.481481</td>\n",
       "      <td>0.546296</td>\n",
       "      <td>0.685185</td>\n",
       "      <td>2.148148</td>\n",
       "    </tr>\n",
       "    <tr>\n",
       "      <th>1</th>\n",
       "      <td>1.300000</td>\n",
       "      <td>1.472727</td>\n",
       "      <td>1.500000</td>\n",
       "      <td>1.200000</td>\n",
       "      <td>2.563636</td>\n",
       "    </tr>\n",
       "    <tr>\n",
       "      <th>2</th>\n",
       "      <td>0.753260</td>\n",
       "      <td>1.003009</td>\n",
       "      <td>1.034102</td>\n",
       "      <td>0.494483</td>\n",
       "      <td>3.477432</td>\n",
       "    </tr>\n",
       "    <tr>\n",
       "      <th>3</th>\n",
       "      <td>0.615616</td>\n",
       "      <td>0.824825</td>\n",
       "      <td>0.869870</td>\n",
       "      <td>1.207207</td>\n",
       "      <td>4.055055</td>\n",
       "    </tr>\n",
       "    <tr>\n",
       "      <th>4</th>\n",
       "      <td>0.695710</td>\n",
       "      <td>0.813673</td>\n",
       "      <td>0.820375</td>\n",
       "      <td>0.302949</td>\n",
       "      <td>1.938338</td>\n",
       "    </tr>\n",
       "  </tbody>\n",
       "</table>\n",
       "</div>"
      ],
      "text/plain": [
       "   user_1grams  user_2grams  user_3grams  avr_mentions  avr_punctuation\n",
       "0     0.425926     0.481481     0.546296      0.685185         2.148148\n",
       "1     1.300000     1.472727     1.500000      1.200000         2.563636\n",
       "2     0.753260     1.003009     1.034102      0.494483         3.477432\n",
       "3     0.615616     0.824825     0.869870      1.207207         4.055055\n",
       "4     0.695710     0.813673     0.820375      0.302949         1.938338"
      ]
     },
     "execution_count": 79,
     "metadata": {},
     "output_type": "execute_result"
    }
   ],
   "source": [
    "# model for sex\n",
    "sex_data = data\n",
    "target = sex_data['sex']\n",
    "del sex_data['age']\n",
    "del sex_data['sex']\n",
    "\n",
    "\n",
    "X_train, X_test, Y_train, Y_test = train_test_split(age_data, target, test_size = 0.20, random_state = 23)\n",
    "\n",
    "sex_data.head()"
   ]
  },
  {
   "cell_type": "code",
   "execution_count": 80,
   "metadata": {
    "collapsed": false
   },
   "outputs": [
    {
     "name": "stdout",
     "output_type": "stream",
     "text": [
      "0.579545454545\n"
     ]
    }
   ],
   "source": [
    "#build logistic regression model\n",
    "log_reg = LogisticRegression()\n",
    "log_reg.fit(X_train, Y_train)\n",
    "print(log_reg.score(X_test, Y_test))"
   ]
  },
  {
   "cell_type": "code",
   "execution_count": 81,
   "metadata": {
    "collapsed": false
   },
   "outputs": [
    {
     "name": "stdout",
     "output_type": "stream",
     "text": [
      "0.534090909091\n"
     ]
    }
   ],
   "source": [
    "#build SVM model\n",
    "svm = SVC()\n",
    "svm.fit(X_train, Y_train)\n",
    "\n",
    "print(svm.score(X_test, Y_test))"
   ]
  },
  {
   "cell_type": "code",
   "execution_count": 83,
   "metadata": {
    "collapsed": false
   },
   "outputs": [
    {
     "name": "stdout",
     "output_type": "stream",
     "text": [
      "0.431818181818\n"
     ]
    }
   ],
   "source": [
    "#build GBM model\n",
    "gbm = GradientBoostingClassifier()\n",
    "gbm.fit(X_train, Y_train)\n",
    "print(gbm.score(X_test, Y_test))"
   ]
  },
  {
   "cell_type": "code",
   "execution_count": 84,
   "metadata": {
    "collapsed": false
   },
   "outputs": [
    {
     "name": "stdout",
     "output_type": "stream",
     "text": [
      "GBM: ['MALE']\n",
      "SVM: ['FEMALE']\n",
      "LOG REG: ['FEMALE']\n"
     ]
    }
   ],
   "source": [
    "features = [4, 2, 0, 0, 1]\n",
    "features = np.array(features).reshape(1, -1)\n",
    "print ( \"GBM: \" + str(gbm.predict(features)))\n",
    "print ( \"SVM: \" + str(svm.predict(features)))\n",
    "print ( \"LOG REG: \" + str(log_reg.predict(features)))"
   ]
  },
  {
   "cell_type": "code",
   "execution_count": 85,
   "metadata": {
    "collapsed": false
   },
   "outputs": [
    {
     "name": "stdout",
     "output_type": "stream",
     "text": [
      "GBM: ['MALE']\n",
      "SVM: ['FEMALE']\n",
      "LOG REG: ['FEMALE']\n"
     ]
    }
   ],
   "source": [
    "features = [4, 2, 0, 0, 0]\n",
    "features = np.array(features).reshape(1, -1)\n",
    "print ( \"GBM: \" + str(gbm.predict(features)))\n",
    "print ( \"SVM: \" + str(svm.predict(features)))\n",
    "print ( \"LOG REG: \" + str(log_reg.predict(features)))"
   ]
  }
 ],
 "metadata": {
  "anaconda-cloud": {},
  "kernelspec": {
   "display_name": "Python [Root]",
   "language": "python",
   "name": "Python [Root]"
  },
  "language_info": {
   "codemirror_mode": {
    "name": "ipython",
    "version": 3
   },
   "file_extension": ".py",
   "mimetype": "text/x-python",
   "name": "python",
   "nbconvert_exporter": "python",
   "pygments_lexer": "ipython3",
   "version": "3.5.2"
  }
 },
 "nbformat": 4,
 "nbformat_minor": 0
}
